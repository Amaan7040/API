{
 "cells": [
  {
   "cell_type": "code",
   "execution_count": 1,
   "id": "93b25f5c",
   "metadata": {},
   "outputs": [],
   "source": [
    "import numpy as np\n",
    "import pandas as pd\n",
    "from sklearn.preprocessing import LabelEncoder\n",
    "from sklearn.model_selection import train_test_split\n",
    "from sklearn.linear_model import LogisticRegression\n",
    "from sklearn.tree import DecisionTreeClassifier\n",
    "from sklearn.ensemble import RandomForestClassifier,ExtraTreesClassifier, StackingClassifier,RandomForestRegressor\n",
    "from sklearn.svm import SVC\n",
    "from sklearn.naive_bayes import MultinomialNB\n",
    "from sklearn.feature_extraction.text import TfidfVectorizer\n",
    "from sklearn.preprocessing import LabelEncoder\n",
    "from xgboost import XGBRegressor\n",
    "from sklearn.preprocessing import StandardScaler\n",
    "import pdfplumber\n",
    "import docx\n",
    "import joblib\n",
    "import re\n",
    "import pickle"
   ]
  },
  {
   "cell_type": "code",
   "execution_count": 2,
   "id": "6c545e17",
   "metadata": {},
   "outputs": [
    {
     "data": {
      "text/html": [
       "<div>\n",
       "<style scoped>\n",
       "    .dataframe tbody tr th:only-of-type {\n",
       "        vertical-align: middle;\n",
       "    }\n",
       "\n",
       "    .dataframe tbody tr th {\n",
       "        vertical-align: top;\n",
       "    }\n",
       "\n",
       "    .dataframe thead th {\n",
       "        text-align: right;\n",
       "    }\n",
       "</style>\n",
       "<table border=\"1\" class=\"dataframe\">\n",
       "  <thead>\n",
       "    <tr style=\"text-align: right;\">\n",
       "      <th></th>\n",
       "      <th>Category</th>\n",
       "      <th>Resume</th>\n",
       "      <th>Experience (Years)</th>\n",
       "      <th>Skills Count</th>\n",
       "      <th>Education Level</th>\n",
       "      <th>Certifications Count</th>\n",
       "      <th>Projects Count</th>\n",
       "      <th>Resume Score</th>\n",
       "    </tr>\n",
       "  </thead>\n",
       "  <tbody>\n",
       "    <tr>\n",
       "      <th>0</th>\n",
       "      <td>Data Science</td>\n",
       "      <td>Skills * Programming Languages: Python (pandas...</td>\n",
       "      <td>0</td>\n",
       "      <td>13</td>\n",
       "      <td>Bachelor's</td>\n",
       "      <td>0</td>\n",
       "      <td>1</td>\n",
       "      <td>40</td>\n",
       "    </tr>\n",
       "    <tr>\n",
       "      <th>1</th>\n",
       "      <td>Data Science</td>\n",
       "      <td>Education Details \\r\\nMay 2013 to May 2017 B.E...</td>\n",
       "      <td>0</td>\n",
       "      <td>4</td>\n",
       "      <td>Bachelor's</td>\n",
       "      <td>0</td>\n",
       "      <td>0</td>\n",
       "      <td>12</td>\n",
       "    </tr>\n",
       "    <tr>\n",
       "      <th>2</th>\n",
       "      <td>Data Science</td>\n",
       "      <td>Areas of Interest Deep Learning, Control Syste...</td>\n",
       "      <td>0</td>\n",
       "      <td>9</td>\n",
       "      <td>Bachelor's</td>\n",
       "      <td>0</td>\n",
       "      <td>0</td>\n",
       "      <td>27</td>\n",
       "    </tr>\n",
       "    <tr>\n",
       "      <th>3</th>\n",
       "      <td>Data Science</td>\n",
       "      <td>Skills â¢ R â¢ Python â¢ SAP HANA â¢ Table...</td>\n",
       "      <td>0</td>\n",
       "      <td>6</td>\n",
       "      <td>Bachelor's</td>\n",
       "      <td>0</td>\n",
       "      <td>11</td>\n",
       "      <td>29</td>\n",
       "    </tr>\n",
       "    <tr>\n",
       "      <th>4</th>\n",
       "      <td>Data Science</td>\n",
       "      <td>Education Details \\r\\n MCA   YMCAUST,  Faridab...</td>\n",
       "      <td>0</td>\n",
       "      <td>3</td>\n",
       "      <td>Master's</td>\n",
       "      <td>0</td>\n",
       "      <td>0</td>\n",
       "      <td>9</td>\n",
       "    </tr>\n",
       "    <tr>\n",
       "      <th>...</th>\n",
       "      <td>...</td>\n",
       "      <td>...</td>\n",
       "      <td>...</td>\n",
       "      <td>...</td>\n",
       "      <td>...</td>\n",
       "      <td>...</td>\n",
       "      <td>...</td>\n",
       "      <td>...</td>\n",
       "    </tr>\n",
       "    <tr>\n",
       "      <th>957</th>\n",
       "      <td>Testing</td>\n",
       "      <td>Computer Skills: â¢ Proficient in MS office (...</td>\n",
       "      <td>0</td>\n",
       "      <td>2</td>\n",
       "      <td>Bachelor's</td>\n",
       "      <td>0</td>\n",
       "      <td>0</td>\n",
       "      <td>6</td>\n",
       "    </tr>\n",
       "    <tr>\n",
       "      <th>958</th>\n",
       "      <td>Testing</td>\n",
       "      <td>â Willingness to accept the challenges. â ...</td>\n",
       "      <td>0</td>\n",
       "      <td>2</td>\n",
       "      <td>Bachelor's</td>\n",
       "      <td>0</td>\n",
       "      <td>0</td>\n",
       "      <td>6</td>\n",
       "    </tr>\n",
       "    <tr>\n",
       "      <th>959</th>\n",
       "      <td>Testing</td>\n",
       "      <td>PERSONAL SKILLS â¢ Quick learner, â¢ Eagerne...</td>\n",
       "      <td>0</td>\n",
       "      <td>1</td>\n",
       "      <td>Bachelor's</td>\n",
       "      <td>3</td>\n",
       "      <td>0</td>\n",
       "      <td>9</td>\n",
       "    </tr>\n",
       "    <tr>\n",
       "      <th>960</th>\n",
       "      <td>Testing</td>\n",
       "      <td>COMPUTER SKILLS &amp; SOFTWARE KNOWLEDGE MS-Power ...</td>\n",
       "      <td>0</td>\n",
       "      <td>1</td>\n",
       "      <td>Bachelor's</td>\n",
       "      <td>0</td>\n",
       "      <td>4</td>\n",
       "      <td>7</td>\n",
       "    </tr>\n",
       "    <tr>\n",
       "      <th>961</th>\n",
       "      <td>Testing</td>\n",
       "      <td>Skill Set OS Windows XP/7/8/8.1/10 Database MY...</td>\n",
       "      <td>0</td>\n",
       "      <td>5</td>\n",
       "      <td>Other</td>\n",
       "      <td>0</td>\n",
       "      <td>5</td>\n",
       "      <td>20</td>\n",
       "    </tr>\n",
       "  </tbody>\n",
       "</table>\n",
       "<p>962 rows × 8 columns</p>\n",
       "</div>"
      ],
      "text/plain": [
       "         Category                                             Resume  \\\n",
       "0    Data Science  Skills * Programming Languages: Python (pandas...   \n",
       "1    Data Science  Education Details \\r\\nMay 2013 to May 2017 B.E...   \n",
       "2    Data Science  Areas of Interest Deep Learning, Control Syste...   \n",
       "3    Data Science  Skills â¢ R â¢ Python â¢ SAP HANA â¢ Table...   \n",
       "4    Data Science  Education Details \\r\\n MCA   YMCAUST,  Faridab...   \n",
       "..            ...                                                ...   \n",
       "957       Testing  Computer Skills: â¢ Proficient in MS office (...   \n",
       "958       Testing  â Willingness to accept the challenges. â ...   \n",
       "959       Testing  PERSONAL SKILLS â¢ Quick learner, â¢ Eagerne...   \n",
       "960       Testing  COMPUTER SKILLS & SOFTWARE KNOWLEDGE MS-Power ...   \n",
       "961       Testing  Skill Set OS Windows XP/7/8/8.1/10 Database MY...   \n",
       "\n",
       "     Experience (Years)  Skills Count Education Level  Certifications Count  \\\n",
       "0                     0            13      Bachelor's                     0   \n",
       "1                     0             4      Bachelor's                     0   \n",
       "2                     0             9      Bachelor's                     0   \n",
       "3                     0             6      Bachelor's                     0   \n",
       "4                     0             3        Master's                     0   \n",
       "..                  ...           ...             ...                   ...   \n",
       "957                   0             2      Bachelor's                     0   \n",
       "958                   0             2      Bachelor's                     0   \n",
       "959                   0             1      Bachelor's                     3   \n",
       "960                   0             1      Bachelor's                     0   \n",
       "961                   0             5           Other                     0   \n",
       "\n",
       "     Projects Count  Resume Score  \n",
       "0                 1            40  \n",
       "1                 0            12  \n",
       "2                 0            27  \n",
       "3                11            29  \n",
       "4                 0             9  \n",
       "..              ...           ...  \n",
       "957               0             6  \n",
       "958               0             6  \n",
       "959               0             9  \n",
       "960               4             7  \n",
       "961               5            20  \n",
       "\n",
       "[962 rows x 8 columns]"
      ]
     },
     "execution_count": 2,
     "metadata": {},
     "output_type": "execute_result"
    }
   ],
   "source": [
    "resume_data = pd.read_csv('Enhanced_Resume_Dataset.csv')\n",
    "# pd.set_option(\"display.max_rows\", None)\n",
    "resume_data"
   ]
  },
  {
   "cell_type": "code",
   "execution_count": 4,
   "id": "ae78f549",
   "metadata": {},
   "outputs": [
    {
     "data": {
      "text/plain": [
       "array(['Data Science', 'HR', 'Advocate', 'Arts', 'Web Designing',\n",
       "       'Mechanical Engineer', 'Sales', 'Health and fitness',\n",
       "       'Civil Engineer', 'Java Developer', 'Business Analyst',\n",
       "       'SAP Developer', 'Automation Testing', 'Electrical Engineering',\n",
       "       'Operations Manager', 'Python Developer', 'DevOps Engineer',\n",
       "       'Network Security Engineer', 'PMO', 'Database', 'Hadoop',\n",
       "       'ETL Developer', 'DotNet Developer', 'Blockchain', 'Testing'],\n",
       "      dtype=object)"
      ]
     },
     "execution_count": 4,
     "metadata": {},
     "output_type": "execute_result"
    }
   ],
   "source": [
    "resume_data['Category'].unique()"
   ]
  },
  {
   "cell_type": "code",
   "execution_count": 8,
   "id": "beb704f6",
   "metadata": {},
   "outputs": [],
   "source": [
    "encoder = LabelEncoder()\n",
    "resume_data[\"Category\"] = encoder.fit_transform(resume_data[\"Category\"])"
   ]
  },
  {
   "cell_type": "code",
   "execution_count": 11,
   "id": "9508172f",
   "metadata": {},
   "outputs": [],
   "source": [
    "with open(\"category_encoder1212.pkl\", \"wb\") as f:\n",
    "    pickle.dump(encoder, f)"
   ]
  },
  {
   "cell_type": "code",
   "execution_count": 10,
   "id": "4461af2f",
   "metadata": {},
   "outputs": [
    {
     "data": {
      "text/plain": [
       "array([ 6, 12,  0,  1, 24, 16, 22, 14,  5, 15,  4, 21,  2, 11, 18, 20,  8,\n",
       "       17, 19,  7, 13, 10,  9,  3, 23])"
      ]
     },
     "execution_count": 10,
     "metadata": {},
     "output_type": "execute_result"
    }
   ],
   "source": [
    "resume_data['Category'].unique()"
   ]
  },
  {
   "cell_type": "code",
   "execution_count": 14,
   "id": "89832cf3",
   "metadata": {},
   "outputs": [
    {
     "data": {
      "text/plain": [
       "4"
      ]
     },
     "execution_count": 14,
     "metadata": {},
     "output_type": "execute_result"
    }
   ],
   "source": [
    "resume_data[resume_data[\"Resume Score\"] == 40].shape[0]"
   ]
  },
  {
   "cell_type": "markdown",
   "id": "9e5549b3",
   "metadata": {},
   "source": [
    "FOR JOB ROLE PREDICTION"
   ]
  },
  {
   "cell_type": "code",
   "execution_count": 3,
   "id": "3c30cef8",
   "metadata": {},
   "outputs": [],
   "source": [
    "tfidf = TfidfVectorizer(max_features=5000)\n",
    "x = tfidf.fit_transform(resume_data['Resume']).toarray()\n",
    "y = resume_data.iloc[:, 0] "
   ]
  },
  {
   "cell_type": "code",
   "execution_count": 4,
   "id": "1d31e68c",
   "metadata": {},
   "outputs": [],
   "source": [
    "x_train, x_test, y_train, y_test = train_test_split(x, y, test_size=0.2)"
   ]
  },
  {
   "cell_type": "code",
   "execution_count": 5,
   "id": "2b72f66a",
   "metadata": {},
   "outputs": [
    {
     "data": {
      "text/html": [
       "<style>#sk-container-id-1 {color: black;}#sk-container-id-1 pre{padding: 0;}#sk-container-id-1 div.sk-toggleable {background-color: white;}#sk-container-id-1 label.sk-toggleable__label {cursor: pointer;display: block;width: 100%;margin-bottom: 0;padding: 0.3em;box-sizing: border-box;text-align: center;}#sk-container-id-1 label.sk-toggleable__label-arrow:before {content: \"▸\";float: left;margin-right: 0.25em;color: #696969;}#sk-container-id-1 label.sk-toggleable__label-arrow:hover:before {color: black;}#sk-container-id-1 div.sk-estimator:hover label.sk-toggleable__label-arrow:before {color: black;}#sk-container-id-1 div.sk-toggleable__content {max-height: 0;max-width: 0;overflow: hidden;text-align: left;background-color: #f0f8ff;}#sk-container-id-1 div.sk-toggleable__content pre {margin: 0.2em;color: black;border-radius: 0.25em;background-color: #f0f8ff;}#sk-container-id-1 input.sk-toggleable__control:checked~div.sk-toggleable__content {max-height: 200px;max-width: 100%;overflow: auto;}#sk-container-id-1 input.sk-toggleable__control:checked~label.sk-toggleable__label-arrow:before {content: \"▾\";}#sk-container-id-1 div.sk-estimator input.sk-toggleable__control:checked~label.sk-toggleable__label {background-color: #d4ebff;}#sk-container-id-1 div.sk-label input.sk-toggleable__control:checked~label.sk-toggleable__label {background-color: #d4ebff;}#sk-container-id-1 input.sk-hidden--visually {border: 0;clip: rect(1px 1px 1px 1px);clip: rect(1px, 1px, 1px, 1px);height: 1px;margin: -1px;overflow: hidden;padding: 0;position: absolute;width: 1px;}#sk-container-id-1 div.sk-estimator {font-family: monospace;background-color: #f0f8ff;border: 1px dotted black;border-radius: 0.25em;box-sizing: border-box;margin-bottom: 0.5em;}#sk-container-id-1 div.sk-estimator:hover {background-color: #d4ebff;}#sk-container-id-1 div.sk-parallel-item::after {content: \"\";width: 100%;border-bottom: 1px solid gray;flex-grow: 1;}#sk-container-id-1 div.sk-label:hover label.sk-toggleable__label {background-color: #d4ebff;}#sk-container-id-1 div.sk-serial::before {content: \"\";position: absolute;border-left: 1px solid gray;box-sizing: border-box;top: 0;bottom: 0;left: 50%;z-index: 0;}#sk-container-id-1 div.sk-serial {display: flex;flex-direction: column;align-items: center;background-color: white;padding-right: 0.2em;padding-left: 0.2em;position: relative;}#sk-container-id-1 div.sk-item {position: relative;z-index: 1;}#sk-container-id-1 div.sk-parallel {display: flex;align-items: stretch;justify-content: center;background-color: white;position: relative;}#sk-container-id-1 div.sk-item::before, #sk-container-id-1 div.sk-parallel-item::before {content: \"\";position: absolute;border-left: 1px solid gray;box-sizing: border-box;top: 0;bottom: 0;left: 50%;z-index: -1;}#sk-container-id-1 div.sk-parallel-item {display: flex;flex-direction: column;z-index: 1;position: relative;background-color: white;}#sk-container-id-1 div.sk-parallel-item:first-child::after {align-self: flex-end;width: 50%;}#sk-container-id-1 div.sk-parallel-item:last-child::after {align-self: flex-start;width: 50%;}#sk-container-id-1 div.sk-parallel-item:only-child::after {width: 0;}#sk-container-id-1 div.sk-dashed-wrapped {border: 1px dashed gray;margin: 0 0.4em 0.5em 0.4em;box-sizing: border-box;padding-bottom: 0.4em;background-color: white;}#sk-container-id-1 div.sk-label label {font-family: monospace;font-weight: bold;display: inline-block;line-height: 1.2em;}#sk-container-id-1 div.sk-label-container {text-align: center;}#sk-container-id-1 div.sk-container {/* jupyter's `normalize.less` sets `[hidden] { display: none; }` but bootstrap.min.css set `[hidden] { display: none !important; }` so we also need the `!important` here to be able to override the default hidden behavior on the sphinx rendered scikit-learn.org. See: https://github.com/scikit-learn/scikit-learn/issues/21755 */display: inline-block !important;position: relative;}#sk-container-id-1 div.sk-text-repr-fallback {display: none;}</style><div id=\"sk-container-id-1\" class=\"sk-top-container\"><div class=\"sk-text-repr-fallback\"><pre>RandomForestClassifier(max_depth=20, n_estimators=300)</pre><b>In a Jupyter environment, please rerun this cell to show the HTML representation or trust the notebook. <br />On GitHub, the HTML representation is unable to render, please try loading this page with nbviewer.org.</b></div><div class=\"sk-container\" hidden><div class=\"sk-item\"><div class=\"sk-estimator sk-toggleable\"><input class=\"sk-toggleable__control sk-hidden--visually\" id=\"sk-estimator-id-1\" type=\"checkbox\" checked><label for=\"sk-estimator-id-1\" class=\"sk-toggleable__label sk-toggleable__label-arrow\">RandomForestClassifier</label><div class=\"sk-toggleable__content\"><pre>RandomForestClassifier(max_depth=20, n_estimators=300)</pre></div></div></div></div></div>"
      ],
      "text/plain": [
       "RandomForestClassifier(max_depth=20, n_estimators=300)"
      ]
     },
     "execution_count": 5,
     "metadata": {},
     "output_type": "execute_result"
    }
   ],
   "source": [
    "rf = RandomForestClassifier(n_estimators=300, max_depth=20)\n",
    "rf.fit(x_train, y_train)"
   ]
  },
  {
   "cell_type": "code",
   "execution_count": 6,
   "id": "30280df1",
   "metadata": {},
   "outputs": [
    {
     "name": "stdout",
     "output_type": "stream",
     "text": [
      "Training accuracy : 100.00\n",
      "Testing accuracy : 100.00\n"
     ]
    }
   ],
   "source": [
    "TrainingAccuracy = rf.score(x_train,y_train)*100\n",
    "TestingAccuraccy = rf.score(x_test,y_test)*100\n",
    "print(f\"Training accuracy : {TrainingAccuracy:.2f}\")\n",
    "print(f\"Testing accuracy : {TestingAccuraccy:.2f}\")"
   ]
  },
  {
   "cell_type": "markdown",
   "id": "8ec5702a",
   "metadata": {},
   "source": [
    "FOR JOB SCORE/ QUALITY PREDICTION"
   ]
  },
  {
   "cell_type": "code",
   "execution_count": 7,
   "id": "2bbd178d",
   "metadata": {},
   "outputs": [
    {
     "data": {
      "text/plain": [
       "array([\"Bachelor's\", \"Master's\", 'Other'], dtype=object)"
      ]
     },
     "execution_count": 7,
     "metadata": {},
     "output_type": "execute_result"
    }
   ],
   "source": [
    "resume_data['Education Level'].unique()"
   ]
  },
  {
   "cell_type": "code",
   "execution_count": 8,
   "id": "e5de8867",
   "metadata": {},
   "outputs": [],
   "source": [
    "le = LabelEncoder()\n",
    "resume_data['Education Level'] = le.fit_transform(resume_data['Education Level'])"
   ]
  },
  {
   "cell_type": "code",
   "execution_count": 9,
   "id": "69d872d3",
   "metadata": {},
   "outputs": [
    {
     "data": {
      "text/plain": [
       "array([0, 1, 2])"
      ]
     },
     "execution_count": 9,
     "metadata": {},
     "output_type": "execute_result"
    }
   ],
   "source": [
    "resume_data['Education Level'].unique()"
   ]
  },
  {
   "cell_type": "code",
   "execution_count": 10,
   "id": "fd083e36",
   "metadata": {},
   "outputs": [],
   "source": [
    "p = resume_data.iloc[:, [2, 3, 4, 5, 6]]\n",
    "z = resume_data.iloc[:,-1]"
   ]
  },
  {
   "cell_type": "code",
   "execution_count": 11,
   "id": "902b1b4a",
   "metadata": {},
   "outputs": [],
   "source": [
    "X_train, X_test, Y_train, Y_test = train_test_split(p, z, test_size=0.2)"
   ]
  },
  {
   "cell_type": "code",
   "execution_count": 26,
   "id": "c2af4db1",
   "metadata": {},
   "outputs": [
    {
     "data": {
      "text/html": [
       "<style>#sk-container-id-4 {color: black;}#sk-container-id-4 pre{padding: 0;}#sk-container-id-4 div.sk-toggleable {background-color: white;}#sk-container-id-4 label.sk-toggleable__label {cursor: pointer;display: block;width: 100%;margin-bottom: 0;padding: 0.3em;box-sizing: border-box;text-align: center;}#sk-container-id-4 label.sk-toggleable__label-arrow:before {content: \"▸\";float: left;margin-right: 0.25em;color: #696969;}#sk-container-id-4 label.sk-toggleable__label-arrow:hover:before {color: black;}#sk-container-id-4 div.sk-estimator:hover label.sk-toggleable__label-arrow:before {color: black;}#sk-container-id-4 div.sk-toggleable__content {max-height: 0;max-width: 0;overflow: hidden;text-align: left;background-color: #f0f8ff;}#sk-container-id-4 div.sk-toggleable__content pre {margin: 0.2em;color: black;border-radius: 0.25em;background-color: #f0f8ff;}#sk-container-id-4 input.sk-toggleable__control:checked~div.sk-toggleable__content {max-height: 200px;max-width: 100%;overflow: auto;}#sk-container-id-4 input.sk-toggleable__control:checked~label.sk-toggleable__label-arrow:before {content: \"▾\";}#sk-container-id-4 div.sk-estimator input.sk-toggleable__control:checked~label.sk-toggleable__label {background-color: #d4ebff;}#sk-container-id-4 div.sk-label input.sk-toggleable__control:checked~label.sk-toggleable__label {background-color: #d4ebff;}#sk-container-id-4 input.sk-hidden--visually {border: 0;clip: rect(1px 1px 1px 1px);clip: rect(1px, 1px, 1px, 1px);height: 1px;margin: -1px;overflow: hidden;padding: 0;position: absolute;width: 1px;}#sk-container-id-4 div.sk-estimator {font-family: monospace;background-color: #f0f8ff;border: 1px dotted black;border-radius: 0.25em;box-sizing: border-box;margin-bottom: 0.5em;}#sk-container-id-4 div.sk-estimator:hover {background-color: #d4ebff;}#sk-container-id-4 div.sk-parallel-item::after {content: \"\";width: 100%;border-bottom: 1px solid gray;flex-grow: 1;}#sk-container-id-4 div.sk-label:hover label.sk-toggleable__label {background-color: #d4ebff;}#sk-container-id-4 div.sk-serial::before {content: \"\";position: absolute;border-left: 1px solid gray;box-sizing: border-box;top: 0;bottom: 0;left: 50%;z-index: 0;}#sk-container-id-4 div.sk-serial {display: flex;flex-direction: column;align-items: center;background-color: white;padding-right: 0.2em;padding-left: 0.2em;position: relative;}#sk-container-id-4 div.sk-item {position: relative;z-index: 1;}#sk-container-id-4 div.sk-parallel {display: flex;align-items: stretch;justify-content: center;background-color: white;position: relative;}#sk-container-id-4 div.sk-item::before, #sk-container-id-4 div.sk-parallel-item::before {content: \"\";position: absolute;border-left: 1px solid gray;box-sizing: border-box;top: 0;bottom: 0;left: 50%;z-index: -1;}#sk-container-id-4 div.sk-parallel-item {display: flex;flex-direction: column;z-index: 1;position: relative;background-color: white;}#sk-container-id-4 div.sk-parallel-item:first-child::after {align-self: flex-end;width: 50%;}#sk-container-id-4 div.sk-parallel-item:last-child::after {align-self: flex-start;width: 50%;}#sk-container-id-4 div.sk-parallel-item:only-child::after {width: 0;}#sk-container-id-4 div.sk-dashed-wrapped {border: 1px dashed gray;margin: 0 0.4em 0.5em 0.4em;box-sizing: border-box;padding-bottom: 0.4em;background-color: white;}#sk-container-id-4 div.sk-label label {font-family: monospace;font-weight: bold;display: inline-block;line-height: 1.2em;}#sk-container-id-4 div.sk-label-container {text-align: center;}#sk-container-id-4 div.sk-container {/* jupyter's `normalize.less` sets `[hidden] { display: none; }` but bootstrap.min.css set `[hidden] { display: none !important; }` so we also need the `!important` here to be able to override the default hidden behavior on the sphinx rendered scikit-learn.org. See: https://github.com/scikit-learn/scikit-learn/issues/21755 */display: inline-block !important;position: relative;}#sk-container-id-4 div.sk-text-repr-fallback {display: none;}</style><div id=\"sk-container-id-4\" class=\"sk-top-container\"><div class=\"sk-text-repr-fallback\"><pre>XGBRegressor(base_score=None, booster=None, callbacks=None,\n",
       "             colsample_bylevel=None, colsample_bynode=None,\n",
       "             colsample_bytree=None, device=None, early_stopping_rounds=None,\n",
       "             enable_categorical=False, eval_metric=None, feature_types=None,\n",
       "             gamma=None, grow_policy=None, importance_type=None,\n",
       "             interaction_constraints=None, learning_rate=None, max_bin=None,\n",
       "             max_cat_threshold=None, max_cat_to_onehot=None,\n",
       "             max_delta_step=None, max_depth=None, max_leaves=None,\n",
       "             min_child_weight=None, missing=nan, monotone_constraints=None,\n",
       "             multi_strategy=None, n_estimators=None, n_jobs=None,\n",
       "             num_parallel_tree=None, random_state=None, ...)</pre><b>In a Jupyter environment, please rerun this cell to show the HTML representation or trust the notebook. <br />On GitHub, the HTML representation is unable to render, please try loading this page with nbviewer.org.</b></div><div class=\"sk-container\" hidden><div class=\"sk-item\"><div class=\"sk-estimator sk-toggleable\"><input class=\"sk-toggleable__control sk-hidden--visually\" id=\"sk-estimator-id-4\" type=\"checkbox\" checked><label for=\"sk-estimator-id-4\" class=\"sk-toggleable__label sk-toggleable__label-arrow\">XGBRegressor</label><div class=\"sk-toggleable__content\"><pre>XGBRegressor(base_score=None, booster=None, callbacks=None,\n",
       "             colsample_bylevel=None, colsample_bynode=None,\n",
       "             colsample_bytree=None, device=None, early_stopping_rounds=None,\n",
       "             enable_categorical=False, eval_metric=None, feature_types=None,\n",
       "             gamma=None, grow_policy=None, importance_type=None,\n",
       "             interaction_constraints=None, learning_rate=None, max_bin=None,\n",
       "             max_cat_threshold=None, max_cat_to_onehot=None,\n",
       "             max_delta_step=None, max_depth=None, max_leaves=None,\n",
       "             min_child_weight=None, missing=nan, monotone_constraints=None,\n",
       "             multi_strategy=None, n_estimators=None, n_jobs=None,\n",
       "             num_parallel_tree=None, random_state=None, ...)</pre></div></div></div></div></div>"
      ],
      "text/plain": [
       "XGBRegressor(base_score=None, booster=None, callbacks=None,\n",
       "             colsample_bylevel=None, colsample_bynode=None,\n",
       "             colsample_bytree=None, device=None, early_stopping_rounds=None,\n",
       "             enable_categorical=False, eval_metric=None, feature_types=None,\n",
       "             gamma=None, grow_policy=None, importance_type=None,\n",
       "             interaction_constraints=None, learning_rate=None, max_bin=None,\n",
       "             max_cat_threshold=None, max_cat_to_onehot=None,\n",
       "             max_delta_step=None, max_depth=None, max_leaves=None,\n",
       "             min_child_weight=None, missing=nan, monotone_constraints=None,\n",
       "             multi_strategy=None, n_estimators=None, n_jobs=None,\n",
       "             num_parallel_tree=None, random_state=None, ...)"
      ]
     },
     "execution_count": 26,
     "metadata": {},
     "output_type": "execute_result"
    }
   ],
   "source": [
    "rfa = XGBRegressor()\n",
    "rfa.fit(X_train, Y_train)"
   ]
  },
  {
   "cell_type": "code",
   "execution_count": 27,
   "id": "35b65ddd",
   "metadata": {},
   "outputs": [
    {
     "name": "stdout",
     "output_type": "stream",
     "text": [
      "Training accuracy : 100.00\n",
      "Testing accuracy : 100.00\n"
     ]
    }
   ],
   "source": [
    "TrainingAccuracy = rfa.score(X_train,Y_train)*100\n",
    "TestingAccuraccy = rfa.score(X_test,Y_test)*100\n",
    "print(f\"Training accuracy : {TrainingAccuracy:.2f}\")\n",
    "print(f\"Testing accuracy : {TestingAccuraccy:.2f}\")"
   ]
  },
  {
   "cell_type": "markdown",
   "id": "471ae7e5",
   "metadata": {},
   "source": [
    "FUNCTION COMBINING BOTH JOB ROLE AND RESUME SCORE PREDICTION"
   ]
  },
  {
   "cell_type": "code",
   "execution_count": 19,
   "id": "e90dd98d",
   "metadata": {},
   "outputs": [],
   "source": [
    "def extract_text_from_file(file_path):\n",
    "    text = \"\"\n",
    "    file_path_lower = file_path.lower()\n",
    "    if file_path_lower.endswith(\".pdf\"):\n",
    "        with pdfplumber.open(file_path) as pdf:\n",
    "            for page in pdf.pages:\n",
    "                page_text = page.extract_text()\n",
    "                if page_text:\n",
    "                    text += page_text + \"\\n\"\n",
    "    elif file_path_lower.endswith(\".docx\"):\n",
    "        doc = docx.Document(file_path)\n",
    "        text = \"\\n\".join([para.text for para in doc.paragraphs if para.text.strip()])\n",
    "    else:\n",
    "        return None\n",
    "\n",
    "    return text.strip() if text.strip() else None\n",
    "\n",
    "def extract_experience_safe(resume_text):\n",
    "    experience_patterns = [\n",
    "        r'(\\d+)\\s*[\\+]?[\\s-]*(?:years?|yrs?)\\s*(?:of)?\\s*experience',\n",
    "        r'experience\\s*(?:of)?\\s*(\\d+)\\s*[\\+]?[\\s-]*(?:years?|yrs?)'\n",
    "    ]\n",
    "    for pattern in experience_patterns:\n",
    "        match = re.search(pattern, resume_text, re.IGNORECASE)\n",
    "        if match:\n",
    "            try:\n",
    "                return int(match.group(1))\n",
    "            except ValueError:\n",
    "                return 0\n",
    "    return 0\n",
    "\n",
    "common_skills = [\n",
    "    \"Python\", \"Java\", \"SQL\", \"Machine Learning\", \"Deep Learning\", \"AI\",\n",
    "    \"C++\", \"JavaScript\", \"HTML\", \"CSS\", \"TensorFlow\", \"Keras\", \"Pandas\",\n",
    "    \"Numpy\", \"Tableau\", \"Excel\", \"Power BI\", \"Flask\", \"Django\",\n",
    "    \"R\", \"C#\", \"PHP\", \"Ruby\", \"Docker\", \"Kubernetes\", \"AWS\", \"Azure\", \"GCP\",\n",
    "    \"Linux\", \"Unix\", \"Bash\", \"Scala\", \"Swift\", \"Objective-C\", \"Git\", \"Spark\",\n",
    "    \"Hadoop\", \"NoSQL\", \"MongoDB\", \"PostgreSQL\", \"Oracle\", \"Jupyter\", \"REST APIs\",\n",
    "    \"GraphQL\"\n",
    "]\n",
    "\n",
    "def count_skills(resume_text):\n",
    "    return sum(1 for skill in common_skills if skill.lower() in resume_text.lower())\n",
    "\n",
    "def extract_education(resume_text):\n",
    "    text_lower = resume_text.lower()\n",
    "    if \"phd\" in text_lower:\n",
    "        return \"PhD\"\n",
    "    elif \"master\" in text_lower or \"m\" in text_lower:\n",
    "        return \"Master's\"\n",
    "    elif \"bachelor\" in text_lower or \"b\" in text_lower:\n",
    "        return \"Bachelor's\"\n",
    "    else:\n",
    "        return \"Other\"\n",
    "\n",
    "def count_certifications(resume_text):\n",
    "    return len(re.findall(r\"certified|certification|certificate\", resume_text, re.IGNORECASE))\n",
    "\n",
    "def count_projects(resume_text):\n",
    "    return len(re.findall(r\"project\", resume_text, re.IGNORECASE))\n",
    "\n",
    "education_map = {\n",
    "    \"Other\": 0,\n",
    "    \"Bachelor's\": 1,\n",
    "    \"Master's\": 2,\n",
    "    \"PhD\": 3\n",
    "}\n",
    "\n",
    "def predict_resume():\n",
    "    file_path = input(\"Enter the full path of the resume file (PDF/DOCX): \").strip()\n",
    "    text = extract_text_from_file(file_path)\n",
    "\n",
    "    if text is None:\n",
    "        print(\"❌ Unsupported file format or empty file. Please use PDF or DOCX.\")\n",
    "        return\n",
    "\n",
    "    text_vectorized = tfidf.transform([text]).toarray()\n",
    "    predicted_role = rf.predict(text_vectorized)[0]  # Classifier model\n",
    "\n",
    "    experience = extract_experience_safe(text)\n",
    "    skills_count = count_skills(text)\n",
    "    education_level = extract_education(text)\n",
    "    certifications_count = count_certifications(text)\n",
    "    projects_count = count_projects(text)\n",
    "\n",
    "    education_encoded = education_map.get(education_level, 0)\n",
    "\n",
    "    input_features = np.array([[experience, skills_count, education_encoded, certifications_count, projects_count]])\n",
    "\n",
    "    predicted_score = rfa.predict(input_features)[0]\n",
    "\n",
    "    def categorize_score(score):\n",
    "        if score >= 40:\n",
    "            return \"Good\"\n",
    "        elif 20 <= score < 40:\n",
    "            return \"Moderate\"\n",
    "        else:\n",
    "            return \"Bad\"\n",
    "\n",
    "    score_category = categorize_score(predicted_score)\n",
    "\n",
    "    print(\"\\n🔍 Predicted Job Role:\", predicted_role)\n",
    "    print(f\"🔍 Predicted Resume Score: {predicted_score:.2f} → {score_category}\")"
   ]
  },
  {
   "cell_type": "code",
   "execution_count": 20,
   "id": "7fe205cc",
   "metadata": {},
   "outputs": [
    {
     "name": "stdout",
     "output_type": "stream",
     "text": [
      "Enter the full path of the resume file (PDF/DOCX): Mohd Amaan Khan Resume(new).pdf\n",
      "\n",
      "🔍 Predicted Job Role: Data Science\n",
      "🔍 Predicted Resume Score: 27.41 → Moderate\n"
     ]
    }
   ],
   "source": [
    "predict_resume()"
   ]
  },
  {
   "cell_type": "code",
   "execution_count": 21,
   "id": "833263a3",
   "metadata": {},
   "outputs": [
    {
     "name": "stdout",
     "output_type": "stream",
     "text": [
      "Enter the full path of the resume file (PDF/DOCX): Firdous_new_cv_resume.pdf\n",
      "\n",
      "🔍 Predicted Job Role: Python Developer\n",
      "🔍 Predicted Resume Score: 33.30 → Moderate\n"
     ]
    }
   ],
   "source": [
    "predict_resume()"
   ]
  },
  {
   "cell_type": "code",
   "execution_count": 22,
   "id": "ec63ba97",
   "metadata": {},
   "outputs": [
    {
     "name": "stdout",
     "output_type": "stream",
     "text": [
      "Enter the full path of the resume file (PDF/DOCX): my_resume.pdf\n",
      "\n",
      "🔍 Predicted Job Role: Data Science\n",
      "🔍 Predicted Resume Score: 36.59 → Moderate\n"
     ]
    }
   ],
   "source": [
    "predict_resume()"
   ]
  },
  {
   "cell_type": "code",
   "execution_count": 23,
   "id": "cb0439c4",
   "metadata": {},
   "outputs": [
    {
     "name": "stdout",
     "output_type": "stream",
     "text": [
      "Enter the full path of the resume file (PDF/DOCX):  M.Shahnawaz Resume.pdf\n",
      "\n",
      "🔍 Predicted Job Role: Automation Testing\n",
      "🔍 Predicted Resume Score: 25.66 → Moderate\n"
     ]
    }
   ],
   "source": [
    "predict_resume()"
   ]
  },
  {
   "cell_type": "code",
   "execution_count": 24,
   "id": "9339dee6",
   "metadata": {},
   "outputs": [
    {
     "name": "stdout",
     "output_type": "stream",
     "text": [
      "Enter the full path of the resume file (PDF/DOCX): CV_Salman1.pdf\n",
      "\n",
      "🔍 Predicted Job Role: Data Science\n",
      "🔍 Predicted Resume Score: 36.49 → Moderate\n"
     ]
    }
   ],
   "source": [
    "predict_resume()"
   ]
  },
  {
   "cell_type": "code",
   "execution_count": 25,
   "id": "8ecd1d8e",
   "metadata": {},
   "outputs": [
    {
     "name": "stdout",
     "output_type": "stream",
     "text": [
      "Enter the full path of the resume file (PDF/DOCX): Hammad Yusuf cv mam recent-converted-1 (1)_compressed.pdf\n",
      "\n",
      "🔍 Predicted Job Role: Advocate\n",
      "🔍 Predicted Resume Score: 5.96 → Bad\n"
     ]
    }
   ],
   "source": [
    "predict_resume()"
   ]
  },
  {
   "cell_type": "code",
   "execution_count": 22,
   "id": "ccb1a480",
   "metadata": {},
   "outputs": [
    {
     "name": "stdout",
     "output_type": "stream",
     "text": [
      "Enter the full path of the resume file (PDF/DOCX): Mohd Amaan Khan Resume(new).pdf\n",
      "\n",
      "🔍 Predicted Job Role: Data Science\n",
      "🔍 Predicted Resume Score: 26.65 → Moderate\n"
     ]
    },
    {
     "name": "stderr",
     "output_type": "stream",
     "text": [
      "C:\\ProgramData\\anaconda3\\Lib\\site-packages\\sklearn\\base.py:464: UserWarning: X does not have valid feature names, but RandomForestRegressor was fitted with feature names\n",
      "  warnings.warn(\n"
     ]
    }
   ],
   "source": [
    "predict_resume()"
   ]
  },
  {
   "cell_type": "code",
   "execution_count": 23,
   "id": "d76387bd",
   "metadata": {},
   "outputs": [
    {
     "name": "stdout",
     "output_type": "stream",
     "text": [
      "Enter the full path of the resume file (PDF/DOCX): Industry manager resume (1).pdf\n",
      "\n",
      "🔍 Predicted Job Role: Health and fitness\n",
      "🔍 Predicted Resume Score: 9.00 → Bad\n"
     ]
    },
    {
     "name": "stderr",
     "output_type": "stream",
     "text": [
      "C:\\ProgramData\\anaconda3\\Lib\\site-packages\\sklearn\\base.py:464: UserWarning: X does not have valid feature names, but RandomForestRegressor was fitted with feature names\n",
      "  warnings.warn(\n"
     ]
    }
   ],
   "source": [
    "predict_resume()"
   ]
  },
  {
   "cell_type": "code",
   "execution_count": 24,
   "id": "f32e8719",
   "metadata": {},
   "outputs": [
    {
     "name": "stdout",
     "output_type": "stream",
     "text": [
      "Enter the full path of the resume file (PDF/DOCX): Mohd Amaan Khan Resume.docx\n",
      "\n",
      "🔍 Predicted Job Role: Data Science\n",
      "🔍 Predicted Resume Score: 19.00 → Bad\n"
     ]
    },
    {
     "name": "stderr",
     "output_type": "stream",
     "text": [
      "C:\\ProgramData\\anaconda3\\Lib\\site-packages\\sklearn\\base.py:464: UserWarning: X does not have valid feature names, but RandomForestRegressor was fitted with feature names\n",
      "  warnings.warn(\n"
     ]
    }
   ],
   "source": [
    "predict_resume()"
   ]
  },
  {
   "cell_type": "code",
   "execution_count": 25,
   "id": "545af54e",
   "metadata": {},
   "outputs": [
    {
     "name": "stdout",
     "output_type": "stream",
     "text": [
      "Enter the full path of the resume file (PDF/DOCX): Firdous_new_cv_resume.docx\n",
      "\n",
      "🔍 Predicted Job Role: Python Developer\n",
      "🔍 Predicted Resume Score: 34.12 → Moderate\n"
     ]
    },
    {
     "name": "stderr",
     "output_type": "stream",
     "text": [
      "C:\\ProgramData\\anaconda3\\Lib\\site-packages\\sklearn\\base.py:464: UserWarning: X does not have valid feature names, but RandomForestRegressor was fitted with feature names\n",
      "  warnings.warn(\n"
     ]
    }
   ],
   "source": [
    "predict_resume()"
   ]
  },
  {
   "cell_type": "code",
   "execution_count": 26,
   "id": "4ddebf88",
   "metadata": {},
   "outputs": [
    {
     "name": "stdout",
     "output_type": "stream",
     "text": [
      "Enter the full path of the resume file (PDF/DOCX): my_resume.docx\n",
      "\n",
      "🔍 Predicted Job Role: Data Science\n",
      "🔍 Predicted Resume Score: 32.92 → Moderate\n"
     ]
    },
    {
     "name": "stderr",
     "output_type": "stream",
     "text": [
      "C:\\ProgramData\\anaconda3\\Lib\\site-packages\\sklearn\\base.py:464: UserWarning: X does not have valid feature names, but RandomForestRegressor was fitted with feature names\n",
      "  warnings.warn(\n"
     ]
    }
   ],
   "source": [
    "predict_resume()"
   ]
  },
  {
   "cell_type": "code",
   "execution_count": 27,
   "id": "233835cd",
   "metadata": {},
   "outputs": [
    {
     "name": "stdout",
     "output_type": "stream",
     "text": [
      "Enter the full path of the resume file (PDF/DOCX): M.Shahnawaz Resume.docx\n",
      "\n",
      "🔍 Predicted Job Role: Automation Testing\n",
      "🔍 Predicted Resume Score: 13.30 → Bad\n"
     ]
    },
    {
     "name": "stderr",
     "output_type": "stream",
     "text": [
      "C:\\ProgramData\\anaconda3\\Lib\\site-packages\\sklearn\\base.py:464: UserWarning: X does not have valid feature names, but RandomForestRegressor was fitted with feature names\n",
      "  warnings.warn(\n"
     ]
    }
   ],
   "source": [
    "predict_resume()"
   ]
  },
  {
   "cell_type": "code",
   "execution_count": 28,
   "id": "51aeb239",
   "metadata": {},
   "outputs": [
    {
     "name": "stdout",
     "output_type": "stream",
     "text": [
      "Enter the full path of the resume file (PDF/DOCX): CV_Salman1.docx\n",
      "\n",
      "🔍 Predicted Job Role: Data Science\n",
      "🔍 Predicted Resume Score: 39.94 → Moderate\n"
     ]
    },
    {
     "name": "stderr",
     "output_type": "stream",
     "text": [
      "C:\\ProgramData\\anaconda3\\Lib\\site-packages\\sklearn\\base.py:464: UserWarning: X does not have valid feature names, but RandomForestRegressor was fitted with feature names\n",
      "  warnings.warn(\n"
     ]
    }
   ],
   "source": [
    "predict_resume()"
   ]
  },
  {
   "cell_type": "code",
   "execution_count": 29,
   "id": "c8aa7604",
   "metadata": {},
   "outputs": [
    {
     "name": "stdout",
     "output_type": "stream",
     "text": [
      "Enter the full path of the resume file (PDF/DOCX): Hammad Yusuf cv mam recent-converted-1 (1)_compressed.docx\n",
      "\n",
      "🔍 Predicted Job Role: Advocate\n",
      "🔍 Predicted Resume Score: 6.00 → Bad\n"
     ]
    },
    {
     "name": "stderr",
     "output_type": "stream",
     "text": [
      "C:\\ProgramData\\anaconda3\\Lib\\site-packages\\sklearn\\base.py:464: UserWarning: X does not have valid feature names, but RandomForestRegressor was fitted with feature names\n",
      "  warnings.warn(\n"
     ]
    }
   ],
   "source": [
    "predict_resume()"
   ]
  },
  {
   "cell_type": "code",
   "execution_count": 30,
   "id": "2b114329",
   "metadata": {},
   "outputs": [
    {
     "name": "stdout",
     "output_type": "stream",
     "text": [
      "Enter the full path of the resume file (PDF/DOCX): Mohd Amaan Khan Resume(new).docx\n",
      "\n",
      "🔍 Predicted Job Role: Data Science\n",
      "🔍 Predicted Resume Score: 26.65 → Moderate\n"
     ]
    },
    {
     "name": "stderr",
     "output_type": "stream",
     "text": [
      "C:\\ProgramData\\anaconda3\\Lib\\site-packages\\sklearn\\base.py:464: UserWarning: X does not have valid feature names, but RandomForestRegressor was fitted with feature names\n",
      "  warnings.warn(\n"
     ]
    }
   ],
   "source": [
    "predict_resume()"
   ]
  },
  {
   "cell_type": "code",
   "execution_count": 31,
   "id": "4c04dd89",
   "metadata": {},
   "outputs": [
    {
     "name": "stdout",
     "output_type": "stream",
     "text": [
      "Enter the full path of the resume file (PDF/DOCX): Industry manager resume.docx\n",
      "\n",
      "🔍 Predicted Job Role: Health and fitness\n",
      "🔍 Predicted Resume Score: 9.00 → Bad\n"
     ]
    },
    {
     "name": "stderr",
     "output_type": "stream",
     "text": [
      "C:\\ProgramData\\anaconda3\\Lib\\site-packages\\sklearn\\base.py:464: UserWarning: X does not have valid feature names, but RandomForestRegressor was fitted with feature names\n",
      "  warnings.warn(\n"
     ]
    }
   ],
   "source": [
    "predict_resume()"
   ]
  },
  {
   "cell_type": "code",
   "execution_count": 28,
   "id": "6060896a",
   "metadata": {},
   "outputs": [],
   "source": [
    "with open(\"resume_score_model1.pkl\", \"wb\") as f:\n",
    "    pickle.dump(rfa,f)"
   ]
  },
  {
   "cell_type": "code",
   "execution_count": null,
   "id": "a734d517",
   "metadata": {},
   "outputs": [],
   "source": []
  }
 ],
 "metadata": {
  "kernelspec": {
   "display_name": "Python 3 (ipykernel)",
   "language": "python",
   "name": "python3"
  },
  "language_info": {
   "codemirror_mode": {
    "name": "ipython",
    "version": 3
   },
   "file_extension": ".py",
   "mimetype": "text/x-python",
   "name": "python",
   "nbconvert_exporter": "python",
   "pygments_lexer": "ipython3",
   "version": "3.11.5"
  }
 },
 "nbformat": 4,
 "nbformat_minor": 5
}
